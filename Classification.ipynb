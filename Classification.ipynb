{
  "nbformat": 4,
  "nbformat_minor": 0,
  "metadata": {
    "colab": {
      "provenance": [],
      "collapsed_sections": []
    },
    "kernelspec": {
      "name": "python3",
      "display_name": "Python 3"
    },
    "language_info": {
      "name": "python"
    }
  },
  "cells": [
    {
      "cell_type": "markdown",
      "source": [
        "Project 4\n"
      ],
      "metadata": {
        "id": "q0rfAhu7GVoJ"
      }
    },
    {
      "cell_type": "code",
      "execution_count": 1,
      "metadata": {
        "id": "7Th1UNZZk77Q"
      },
      "outputs": [],
      "source": [
        "#importing the required libraries\n",
        "import matplotlib.pyplot as plt\n",
        "import pandas as pd\n",
        "import numpy as np\n",
        "from sklearn.tree import DecisionTreeClassifier\n",
        "from sklearn.ensemble import RandomForestClassifier\n",
        "from sklearn.ensemble import AdaBoostClassifier\n",
        "from sklearn import metrics\n",
        "from sklearn import model_selection\n",
        "from sklearn.preprocessing import StandardScaler\n",
        "from sklearn.tree import plot_tree"
      ]
    },
    {
      "cell_type": "code",
      "source": [
        "seed = 520\n",
        "np.set_printoptions(precision=3)"
      ],
      "metadata": {
        "id": "q14W4V2rommw"
      },
      "execution_count": 10,
      "outputs": []
    },
    {
      "cell_type": "code",
      "source": [
        "#loading the excel file AndroidmalwareSmall.xlsx\n",
        "android_df=pd.read_excel(\"AndroidmalwareSmall.xlsx\")"
      ],
      "metadata": {
        "id": "_nXIBF8bqDLM"
      },
      "execution_count": 11,
      "outputs": []
    },
    {
      "cell_type": "code",
      "source": [
        "#printing 5 rows of the dataset\n",
        "android_df.head()"
      ],
      "metadata": {
        "colab": {
          "base_uri": "https://localhost:8080/",
          "height": 299
        },
        "id": "lMem6bXmrTAb",
        "outputId": "fc269c72-7dcb-48cc-8652-34510847e58e"
      },
      "execution_count": 12,
      "outputs": [
        {
          "output_type": "execute_result",
          "data": {
            "text/plain": [
              "   android.permission.GET_ACCOUNTS  \\\n",
              "0                                0   \n",
              "1                                1   \n",
              "2                                0   \n",
              "3                                0   \n",
              "4                                0   \n",
              "\n",
              "   com.sonyericsson.home.permission.BROADCAST_BADGE  \\\n",
              "0                                                 0   \n",
              "1                                                 0   \n",
              "2                                                 0   \n",
              "3                                                 0   \n",
              "4                                                 0   \n",
              "\n",
              "   android.permission.READ_PROFILE  android.permission.MANAGE_ACCOUNTS  \\\n",
              "0                                0                                   0   \n",
              "1                                0                                   0   \n",
              "2                                0                                   0   \n",
              "3                                0                                   0   \n",
              "4                                0                                   0   \n",
              "\n",
              "   android.permission.WRITE_SYNC_SETTINGS  \\\n",
              "0                                       0   \n",
              "1                                       0   \n",
              "2                                       0   \n",
              "3                                       0   \n",
              "4                                       0   \n",
              "\n",
              "   android.permission.READ_EXTERNAL_STORAGE  android.permission.RECEIVE_SMS  \\\n",
              "0                                         0                               0   \n",
              "1                                         0                               0   \n",
              "2                                         1                               0   \n",
              "3                                         1                               0   \n",
              "4                                         0                               0   \n",
              "\n",
              "   com.android.launcher.permission.READ_SETTINGS  \\\n",
              "0                                              0   \n",
              "1                                              0   \n",
              "2                                              0   \n",
              "3                                              0   \n",
              "4                                              0   \n",
              "\n",
              "   android.permission.WRITE_SETTINGS  \\\n",
              "0                                  0   \n",
              "1                                  0   \n",
              "2                                  0   \n",
              "3                                  1   \n",
              "4                                  0   \n",
              "\n",
              "   com.google.android.providers.gsf.permission.READ_GSERVICES  ...  \\\n",
              "0                                                  0           ...   \n",
              "1                                                  0           ...   \n",
              "2                                                  0           ...   \n",
              "3                                                  0           ...   \n",
              "4                                                  0           ...   \n",
              "\n",
              "   com.android.launcher.permission.UNINSTALL_SHORTCUT  \\\n",
              "0                                                  0    \n",
              "1                                                  0    \n",
              "2                                                  0    \n",
              "3                                                  0    \n",
              "4                                                  0    \n",
              "\n",
              "   com.sec.android.iap.permission.BILLING  \\\n",
              "0                                       0   \n",
              "1                                       0   \n",
              "2                                       0   \n",
              "3                                       0   \n",
              "4                                       0   \n",
              "\n",
              "   com.htc.launcher.permission.UPDATE_SHORTCUT  \\\n",
              "0                                            0   \n",
              "1                                            0   \n",
              "2                                            0   \n",
              "3                                            0   \n",
              "4                                            0   \n",
              "\n",
              "   com.sec.android.provider.badge.permission.WRITE  \\\n",
              "0                                                0   \n",
              "1                                                0   \n",
              "2                                                0   \n",
              "3                                                0   \n",
              "4                                                0   \n",
              "\n",
              "   android.permission.ACCESS_NETWORK_STATE  \\\n",
              "0                                        1   \n",
              "1                                        1   \n",
              "2                                        1   \n",
              "3                                        1   \n",
              "4                                        1   \n",
              "\n",
              "   com.google.android.finsky.permission.BIND_GET_INSTALL_REFERRER_SERVICE  \\\n",
              "0                                                  0                        \n",
              "1                                                  0                        \n",
              "2                                                  0                        \n",
              "3                                                  0                        \n",
              "4                                                  0                        \n",
              "\n",
              "   com.huawei.android.launcher.permission.READ_SETTINGS  \\\n",
              "0                                                  0      \n",
              "1                                                  0      \n",
              "2                                                  0      \n",
              "3                                                  0      \n",
              "4                                                  0      \n",
              "\n",
              "   android.permission.READ_SMS  android.permission.PROCESS_INCOMING_CALLS  \\\n",
              "0                            0                                          0   \n",
              "1                            0                                          0   \n",
              "2                            0                                          0   \n",
              "3                            0                                          0   \n",
              "4                            0                                          0   \n",
              "\n",
              "   Result  \n",
              "0       1  \n",
              "1       1  \n",
              "2       1  \n",
              "3       0  \n",
              "4       1  \n",
              "\n",
              "[5 rows x 87 columns]"
            ],
            "text/html": [
              "\n",
              "  <div id=\"df-b34e458d-6b3c-4fcf-bb2c-c152545b87e5\">\n",
              "    <div class=\"colab-df-container\">\n",
              "      <div>\n",
              "<style scoped>\n",
              "    .dataframe tbody tr th:only-of-type {\n",
              "        vertical-align: middle;\n",
              "    }\n",
              "\n",
              "    .dataframe tbody tr th {\n",
              "        vertical-align: top;\n",
              "    }\n",
              "\n",
              "    .dataframe thead th {\n",
              "        text-align: right;\n",
              "    }\n",
              "</style>\n",
              "<table border=\"1\" class=\"dataframe\">\n",
              "  <thead>\n",
              "    <tr style=\"text-align: right;\">\n",
              "      <th></th>\n",
              "      <th>android.permission.GET_ACCOUNTS</th>\n",
              "      <th>com.sonyericsson.home.permission.BROADCAST_BADGE</th>\n",
              "      <th>android.permission.READ_PROFILE</th>\n",
              "      <th>android.permission.MANAGE_ACCOUNTS</th>\n",
              "      <th>android.permission.WRITE_SYNC_SETTINGS</th>\n",
              "      <th>android.permission.READ_EXTERNAL_STORAGE</th>\n",
              "      <th>android.permission.RECEIVE_SMS</th>\n",
              "      <th>com.android.launcher.permission.READ_SETTINGS</th>\n",
              "      <th>android.permission.WRITE_SETTINGS</th>\n",
              "      <th>com.google.android.providers.gsf.permission.READ_GSERVICES</th>\n",
              "      <th>...</th>\n",
              "      <th>com.android.launcher.permission.UNINSTALL_SHORTCUT</th>\n",
              "      <th>com.sec.android.iap.permission.BILLING</th>\n",
              "      <th>com.htc.launcher.permission.UPDATE_SHORTCUT</th>\n",
              "      <th>com.sec.android.provider.badge.permission.WRITE</th>\n",
              "      <th>android.permission.ACCESS_NETWORK_STATE</th>\n",
              "      <th>com.google.android.finsky.permission.BIND_GET_INSTALL_REFERRER_SERVICE</th>\n",
              "      <th>com.huawei.android.launcher.permission.READ_SETTINGS</th>\n",
              "      <th>android.permission.READ_SMS</th>\n",
              "      <th>android.permission.PROCESS_INCOMING_CALLS</th>\n",
              "      <th>Result</th>\n",
              "    </tr>\n",
              "  </thead>\n",
              "  <tbody>\n",
              "    <tr>\n",
              "      <th>0</th>\n",
              "      <td>0</td>\n",
              "      <td>0</td>\n",
              "      <td>0</td>\n",
              "      <td>0</td>\n",
              "      <td>0</td>\n",
              "      <td>0</td>\n",
              "      <td>0</td>\n",
              "      <td>0</td>\n",
              "      <td>0</td>\n",
              "      <td>0</td>\n",
              "      <td>...</td>\n",
              "      <td>0</td>\n",
              "      <td>0</td>\n",
              "      <td>0</td>\n",
              "      <td>0</td>\n",
              "      <td>1</td>\n",
              "      <td>0</td>\n",
              "      <td>0</td>\n",
              "      <td>0</td>\n",
              "      <td>0</td>\n",
              "      <td>1</td>\n",
              "    </tr>\n",
              "    <tr>\n",
              "      <th>1</th>\n",
              "      <td>1</td>\n",
              "      <td>0</td>\n",
              "      <td>0</td>\n",
              "      <td>0</td>\n",
              "      <td>0</td>\n",
              "      <td>0</td>\n",
              "      <td>0</td>\n",
              "      <td>0</td>\n",
              "      <td>0</td>\n",
              "      <td>0</td>\n",
              "      <td>...</td>\n",
              "      <td>0</td>\n",
              "      <td>0</td>\n",
              "      <td>0</td>\n",
              "      <td>0</td>\n",
              "      <td>1</td>\n",
              "      <td>0</td>\n",
              "      <td>0</td>\n",
              "      <td>0</td>\n",
              "      <td>0</td>\n",
              "      <td>1</td>\n",
              "    </tr>\n",
              "    <tr>\n",
              "      <th>2</th>\n",
              "      <td>0</td>\n",
              "      <td>0</td>\n",
              "      <td>0</td>\n",
              "      <td>0</td>\n",
              "      <td>0</td>\n",
              "      <td>1</td>\n",
              "      <td>0</td>\n",
              "      <td>0</td>\n",
              "      <td>0</td>\n",
              "      <td>0</td>\n",
              "      <td>...</td>\n",
              "      <td>0</td>\n",
              "      <td>0</td>\n",
              "      <td>0</td>\n",
              "      <td>0</td>\n",
              "      <td>1</td>\n",
              "      <td>0</td>\n",
              "      <td>0</td>\n",
              "      <td>0</td>\n",
              "      <td>0</td>\n",
              "      <td>1</td>\n",
              "    </tr>\n",
              "    <tr>\n",
              "      <th>3</th>\n",
              "      <td>0</td>\n",
              "      <td>0</td>\n",
              "      <td>0</td>\n",
              "      <td>0</td>\n",
              "      <td>0</td>\n",
              "      <td>1</td>\n",
              "      <td>0</td>\n",
              "      <td>0</td>\n",
              "      <td>1</td>\n",
              "      <td>0</td>\n",
              "      <td>...</td>\n",
              "      <td>0</td>\n",
              "      <td>0</td>\n",
              "      <td>0</td>\n",
              "      <td>0</td>\n",
              "      <td>1</td>\n",
              "      <td>0</td>\n",
              "      <td>0</td>\n",
              "      <td>0</td>\n",
              "      <td>0</td>\n",
              "      <td>0</td>\n",
              "    </tr>\n",
              "    <tr>\n",
              "      <th>4</th>\n",
              "      <td>0</td>\n",
              "      <td>0</td>\n",
              "      <td>0</td>\n",
              "      <td>0</td>\n",
              "      <td>0</td>\n",
              "      <td>0</td>\n",
              "      <td>0</td>\n",
              "      <td>0</td>\n",
              "      <td>0</td>\n",
              "      <td>0</td>\n",
              "      <td>...</td>\n",
              "      <td>0</td>\n",
              "      <td>0</td>\n",
              "      <td>0</td>\n",
              "      <td>0</td>\n",
              "      <td>1</td>\n",
              "      <td>0</td>\n",
              "      <td>0</td>\n",
              "      <td>0</td>\n",
              "      <td>0</td>\n",
              "      <td>1</td>\n",
              "    </tr>\n",
              "  </tbody>\n",
              "</table>\n",
              "<p>5 rows × 87 columns</p>\n",
              "</div>\n",
              "      <button class=\"colab-df-convert\" onclick=\"convertToInteractive('df-b34e458d-6b3c-4fcf-bb2c-c152545b87e5')\"\n",
              "              title=\"Convert this dataframe to an interactive table.\"\n",
              "              style=\"display:none;\">\n",
              "        \n",
              "  <svg xmlns=\"http://www.w3.org/2000/svg\" height=\"24px\"viewBox=\"0 0 24 24\"\n",
              "       width=\"24px\">\n",
              "    <path d=\"M0 0h24v24H0V0z\" fill=\"none\"/>\n",
              "    <path d=\"M18.56 5.44l.94 2.06.94-2.06 2.06-.94-2.06-.94-.94-2.06-.94 2.06-2.06.94zm-11 1L8.5 8.5l.94-2.06 2.06-.94-2.06-.94L8.5 2.5l-.94 2.06-2.06.94zm10 10l.94 2.06.94-2.06 2.06-.94-2.06-.94-.94-2.06-.94 2.06-2.06.94z\"/><path d=\"M17.41 7.96l-1.37-1.37c-.4-.4-.92-.59-1.43-.59-.52 0-1.04.2-1.43.59L10.3 9.45l-7.72 7.72c-.78.78-.78 2.05 0 2.83L4 21.41c.39.39.9.59 1.41.59.51 0 1.02-.2 1.41-.59l7.78-7.78 2.81-2.81c.8-.78.8-2.07 0-2.86zM5.41 20L4 18.59l7.72-7.72 1.47 1.35L5.41 20z\"/>\n",
              "  </svg>\n",
              "      </button>\n",
              "      \n",
              "  <style>\n",
              "    .colab-df-container {\n",
              "      display:flex;\n",
              "      flex-wrap:wrap;\n",
              "      gap: 12px;\n",
              "    }\n",
              "\n",
              "    .colab-df-convert {\n",
              "      background-color: #E8F0FE;\n",
              "      border: none;\n",
              "      border-radius: 50%;\n",
              "      cursor: pointer;\n",
              "      display: none;\n",
              "      fill: #1967D2;\n",
              "      height: 32px;\n",
              "      padding: 0 0 0 0;\n",
              "      width: 32px;\n",
              "    }\n",
              "\n",
              "    .colab-df-convert:hover {\n",
              "      background-color: #E2EBFA;\n",
              "      box-shadow: 0px 1px 2px rgba(60, 64, 67, 0.3), 0px 1px 3px 1px rgba(60, 64, 67, 0.15);\n",
              "      fill: #174EA6;\n",
              "    }\n",
              "\n",
              "    [theme=dark] .colab-df-convert {\n",
              "      background-color: #3B4455;\n",
              "      fill: #D2E3FC;\n",
              "    }\n",
              "\n",
              "    [theme=dark] .colab-df-convert:hover {\n",
              "      background-color: #434B5C;\n",
              "      box-shadow: 0px 1px 3px 1px rgba(0, 0, 0, 0.15);\n",
              "      filter: drop-shadow(0px 1px 2px rgba(0, 0, 0, 0.3));\n",
              "      fill: #FFFFFF;\n",
              "    }\n",
              "  </style>\n",
              "\n",
              "      <script>\n",
              "        const buttonEl =\n",
              "          document.querySelector('#df-b34e458d-6b3c-4fcf-bb2c-c152545b87e5 button.colab-df-convert');\n",
              "        buttonEl.style.display =\n",
              "          google.colab.kernel.accessAllowed ? 'block' : 'none';\n",
              "\n",
              "        async function convertToInteractive(key) {\n",
              "          const element = document.querySelector('#df-b34e458d-6b3c-4fcf-bb2c-c152545b87e5');\n",
              "          const dataTable =\n",
              "            await google.colab.kernel.invokeFunction('convertToInteractive',\n",
              "                                                     [key], {});\n",
              "          if (!dataTable) return;\n",
              "\n",
              "          const docLinkHtml = 'Like what you see? Visit the ' +\n",
              "            '<a target=\"_blank\" href=https://colab.research.google.com/notebooks/data_table.ipynb>data table notebook</a>'\n",
              "            + ' to learn more about interactive tables.';\n",
              "          element.innerHTML = '';\n",
              "          dataTable['output_type'] = 'display_data';\n",
              "          await google.colab.output.renderOutput(dataTable, element);\n",
              "          const docLink = document.createElement('div');\n",
              "          docLink.innerHTML = docLinkHtml;\n",
              "          element.appendChild(docLink);\n",
              "        }\n",
              "      </script>\n",
              "    </div>\n",
              "  </div>\n",
              "  "
            ]
          },
          "metadata": {},
          "execution_count": 12
        }
      ]
    },
    {
      "cell_type": "code",
      "source": [
        "#splitting the data into train and test as 80% and 20%\n",
        "X=android_df.iloc[:,1:87]\n",
        "y=android_df['Result']\n",
        "from sklearn.model_selection import train_test_split\n",
        "X_train, X_test, y_train, y_test= train_test_split(X,y,test_size=0.2,random_state=1)\n"
      ],
      "metadata": {
        "id": "83VC8w8ArZpE"
      },
      "execution_count": 13,
      "outputs": []
    },
    {
      "cell_type": "code",
      "source": [
        "#printing the dimensions of X's and y's trains and tests \n",
        "print(X_train.shape)\n",
        "print(X_test.shape)\n",
        "print(y_train.shape)\n",
        "print(y_test.shape)"
      ],
      "metadata": {
        "colab": {
          "base_uri": "https://localhost:8080/"
        },
        "id": "YZT0Xpbyy_sC",
        "outputId": "2108201e-360b-4994-9730-d9aa574b4205"
      },
      "execution_count": 16,
      "outputs": [
        {
          "output_type": "stream",
          "name": "stdout",
          "text": [
            "(8000, 86)\n",
            "(2000, 86)\n",
            "(8000,)\n",
            "(2000,)\n"
          ]
        }
      ]
    },
    {
      "cell_type": "markdown",
      "source": [
        "RandomForest"
      ],
      "metadata": {
        "id": "ffu7W5mMHjQC"
      }
    },
    {
      "cell_type": "code",
      "source": [
        "#defining a function for scaling the data\n",
        "def create_scaler_standard():\n",
        "    return StandardScaler()\n",
        "\n",
        "create_scaler = create_scaler_standard"
      ],
      "metadata": {
        "id": "GX9aLRsplu6B"
      },
      "execution_count": 2,
      "outputs": []
    },
    {
      "cell_type": "code",
      "source": [
        "#defining a function for randomforestclassifier model\n",
        "def create_model_random_forest():\n",
        "    model_rf = RandomForestClassifier(n_estimators=100, \n",
        "                                   min_samples_split=5, \n",
        "                                   random_state=seed, \n",
        "                                   n_jobs=-1)\n",
        "    return model_rf\n",
        "\n",
        "create_model_rf = create_model_random_forest"
      ],
      "metadata": {
        "id": "nXHB3mfvnfDO"
      },
      "execution_count": 8,
      "outputs": []
    },
    {
      "cell_type": "code",
      "source": [
        "#scaling the model and fitting the model \n",
        "scaler = create_scaler()\n",
        "model_rf = create_model_rf()\n",
        "scaler.fit(X_train)\n",
        "X_train_scaled = scaler.transform(X_train)\n",
        "X_test_scaled = scaler.transform(X_test)\n",
        "model_rf.fit(X_train_scaled, y_train)"
      ],
      "metadata": {
        "colab": {
          "base_uri": "https://localhost:8080/"
        },
        "id": "zpl8AkLq7K-H",
        "outputId": "a23a32e1-d4a5-4641-9a6f-f6c4a9c051f7"
      },
      "execution_count": 17,
      "outputs": [
        {
          "output_type": "execute_result",
          "data": {
            "text/plain": [
              "RandomForestClassifier(min_samples_split=5, n_jobs=-1, random_state=520)"
            ]
          },
          "metadata": {},
          "execution_count": 17
        }
      ]
    },
    {
      "cell_type": "code",
      "source": [
        "#Predicting the model for train and test\n",
        "y_train_pred = model_rf.predict(X_train_scaled)\n",
        "y_test_pred = model_rf.predict(X_test_scaled)"
      ],
      "metadata": {
        "id": "RxHq2NOuEOsQ"
      },
      "execution_count": 18,
      "outputs": []
    },
    {
      "cell_type": "code",
      "source": [
        "#print the accuracy,classification report and confusion matrix for the model\n",
        "print('Model evaluation (train):')\n",
        "print('Accuracy:')\n",
        "print(metrics.accuracy_score(y_train, y_train_pred))\n",
        "print(\"Classification report:\")\n",
        "print(metrics.classification_report(y_train, y_train_pred))\n",
        "print(\"Confusion matrix (train):\")\n",
        "print(metrics.confusion_matrix(y_train, y_train_pred))"
      ],
      "metadata": {
        "colab": {
          "base_uri": "https://localhost:8080/"
        },
        "id": "y9ACPLae78HH",
        "outputId": "18c9acaa-2a17-481f-efc3-e0844b3d6ea4"
      },
      "execution_count": 19,
      "outputs": [
        {
          "output_type": "stream",
          "name": "stdout",
          "text": [
            "Model evaluation (train):\n",
            "Accuracy:\n",
            "1.0\n",
            "Classification report:\n",
            "              precision    recall  f1-score   support\n",
            "\n",
            "           0       1.00      1.00      1.00      4043\n",
            "           1       1.00      1.00      1.00      3957\n",
            "\n",
            "    accuracy                           1.00      8000\n",
            "   macro avg       1.00      1.00      1.00      8000\n",
            "weighted avg       1.00      1.00      1.00      8000\n",
            "\n",
            "Confusion matrix (train):\n",
            "[[4043    0]\n",
            " [   0 3957]]\n"
          ]
        }
      ]
    },
    {
      "cell_type": "markdown",
      "source": [
        "Got Accuracy of 100% for RandomForest model."
      ],
      "metadata": {
        "id": "SL0fGJMUBz_1"
      }
    },
    {
      "cell_type": "markdown",
      "source": [
        "Hyperparameter Tuning for RandomForestClassifier"
      ],
      "metadata": {
        "id": "LcFD2qeRCHqC"
      }
    },
    {
      "cell_type": "code",
      "source": [
        "#Using gridsearchcv to tuning the model\n",
        "#training and fitting the model\n",
        "model = model_selection.GridSearchCV(create_model_rf(),\n",
        "                                     cv=5,\n",
        "                                     param_grid={\n",
        "                                         \"max_depth\": list(range(1, 40, 2)),\n",
        "                                         \"min_samples_split\": list(range(2, 5, \n",
        "2))\n",
        "                                      })\n",
        "model.fit(X_train_scaled, y_train)\n"
      ],
      "metadata": {
        "colab": {
          "base_uri": "https://localhost:8080/"
        },
        "id": "iUY3V1mC1s0m",
        "outputId": "6da73cef-60f3-4955-f7a5-0b101df9a03a"
      },
      "execution_count": 26,
      "outputs": [
        {
          "output_type": "execute_result",
          "data": {
            "text/plain": [
              "GridSearchCV(cv=5,\n",
              "             estimator=RandomForestClassifier(min_samples_split=5, n_jobs=-1,\n",
              "                                              random_state=520),\n",
              "             param_grid={'max_depth': [1, 3, 5, 7, 9, 11, 13, 15, 17, 19, 21,\n",
              "                                       23, 25, 27, 29, 31, 33, 35, 37, 39],\n",
              "                         'min_samples_split': [2, 4]})"
            ]
          },
          "metadata": {},
          "execution_count": 26
        }
      ]
    },
    {
      "cell_type": "code",
      "source": [
        "#print the accuracy,classification report and confusion matrix for the model\n",
        "#After hyperparameter tuning\n",
        "print('Model evaluation (Optimal Hyperparameters):')\n",
        "print('Optimal parameters:', model.best_params_)\n",
        "y_test_hat = model.predict(X_test_scaled)\n",
        "print('Accuracy:')\n",
        "print(metrics.accuracy_score(y_test, y_test_hat))\n",
        "print(\"Classification report:\")\n",
        "print(metrics.classification_report(y_test, y_test_hat))\n",
        "print(\"Confusion matrix (Optimal Hyperparameters):\")\n",
        "print(metrics.confusion_matrix(y_test, y_test_hat))"
      ],
      "metadata": {
        "colab": {
          "base_uri": "https://localhost:8080/"
        },
        "id": "gFBELI1P3lFp",
        "outputId": "c47e615c-43df-4984-a698-af8b067ac4ca"
      },
      "execution_count": 46,
      "outputs": [
        {
          "output_type": "stream",
          "name": "stdout",
          "text": [
            "Model evaluation (Optimal Hyperparameters):\n",
            "Optimal parameters: {'max_depth': 7, 'min_samples_split': 2}\n",
            "Accuracy:\n",
            "1.0\n",
            "Classification report:\n",
            "              precision    recall  f1-score   support\n",
            "\n",
            "           0       1.00      1.00      1.00      1001\n",
            "           1       1.00      1.00      1.00       999\n",
            "\n",
            "    accuracy                           1.00      2000\n",
            "   macro avg       1.00      1.00      1.00      2000\n",
            "weighted avg       1.00      1.00      1.00      2000\n",
            "\n",
            "Confusion matrix (Optimal Hyperparameters):\n",
            "[[1001    0]\n",
            " [   0  999]]\n"
          ]
        }
      ]
    },
    {
      "cell_type": "markdown",
      "source": [
        "There is no change in accuracy."
      ],
      "metadata": {
        "id": "4oTMTzo0C5GK"
      }
    },
    {
      "cell_type": "markdown",
      "source": [
        "AdaBoost"
      ],
      "metadata": {
        "id": "-LehBfvV4ZE-"
      }
    },
    {
      "cell_type": "code",
      "source": [
        "#create a model for adaboostclassifier with decisiontree as base estimator\n",
        "param_grid = {\"base_estimator__criterion\" : [\"gini\", \"entropy\"],\n",
        "              \"base_estimator__splitter\" :   [\"best\", \"random\"],\n",
        "              \"n_estimators\": [1, 2]\n",
        "             }\n",
        "Decision_TC = DecisionTreeClassifier(random_state = 42, max_features = \"auto\", class_weight = \"balanced\",max_depth = None)\n",
        "\n",
        "model_abc = AdaBoostClassifier(base_estimator = Decision_TC)\n"
      ],
      "metadata": {
        "id": "d98Ad8Qr6t_2"
      },
      "execution_count": 35,
      "outputs": []
    },
    {
      "cell_type": "code",
      "source": [
        "#training and fitting the model\n",
        "scaler.fit(X_train)\n",
        "X_trainscaled = scaler.transform(X_train)\n",
        "X_testscaled = scaler.transform(X_test)\n",
        "model_abc.fit(X_trainscaled, y_train)"
      ],
      "metadata": {
        "colab": {
          "base_uri": "https://localhost:8080/"
        },
        "id": "eeqDrTQl4YJx",
        "outputId": "4de183ef-4097-4be6-edd9-953309376ed9"
      },
      "execution_count": 36,
      "outputs": [
        {
          "output_type": "execute_result",
          "data": {
            "text/plain": [
              "AdaBoostClassifier(base_estimator=DecisionTreeClassifier(class_weight='balanced',\n",
              "                                                         max_features='auto',\n",
              "                                                         random_state=42))"
            ]
          },
          "metadata": {},
          "execution_count": 36
        }
      ]
    },
    {
      "cell_type": "code",
      "source": [
        "#predicting the model for train and test\n",
        "y_trainpred = model_abc.predict(X_trainscaled)\n",
        "y_testpred = model_abc.predict(X_testscaled)"
      ],
      "metadata": {
        "id": "f9t_KNDR5HQJ"
      },
      "execution_count": 38,
      "outputs": []
    },
    {
      "cell_type": "code",
      "source": [
        "#print the accuracy,classification report and confusion matrix for the model\n",
        "print('Model evaluation (train):')\n",
        "print('Accuracy:')\n",
        "print(metrics.accuracy_score(y_train, y_trainpred))\n",
        "print(\"Classification report:\")\n",
        "print(metrics.classification_report(y_train, y_trainpred))\n",
        "print(\"Confusion matrix (train):\")\n",
        "print(metrics.confusion_matrix(y_train, y_trainpred))"
      ],
      "metadata": {
        "colab": {
          "base_uri": "https://localhost:8080/"
        },
        "id": "uLzxQMst5UK2",
        "outputId": "e6b0c672-f654-46ac-a765-3e78a3937a65"
      },
      "execution_count": 39,
      "outputs": [
        {
          "output_type": "stream",
          "name": "stdout",
          "text": [
            "Model evaluation (train):\n",
            "Accuracy:\n",
            "1.0\n",
            "Classification report:\n",
            "              precision    recall  f1-score   support\n",
            "\n",
            "           0       1.00      1.00      1.00      4043\n",
            "           1       1.00      1.00      1.00      3957\n",
            "\n",
            "    accuracy                           1.00      8000\n",
            "   macro avg       1.00      1.00      1.00      8000\n",
            "weighted avg       1.00      1.00      1.00      8000\n",
            "\n",
            "Confusion matrix (train):\n",
            "[[4043    0]\n",
            " [   0 3957]]\n"
          ]
        }
      ]
    },
    {
      "cell_type": "markdown",
      "source": [
        "Got Accuracy of 100% for AdaBoost model"
      ],
      "metadata": {
        "id": "5ZKSzqKIGGw4"
      }
    },
    {
      "cell_type": "code",
      "source": [
        "#Using gridsearchcv to tuning the model\n",
        "#training and fitting the model\n",
        "model_a = model_selection.GridSearchCV(model_abc,cv=5,param_grid=param_grid)\n",
        "model_a.fit(X_trainscaled, y_train)"
      ],
      "metadata": {
        "colab": {
          "base_uri": "https://localhost:8080/"
        },
        "id": "JeLsRi8E5qht",
        "outputId": "4a86d9c0-0f89-427a-cb25-9e39478a6237"
      },
      "execution_count": 42,
      "outputs": [
        {
          "output_type": "execute_result",
          "data": {
            "text/plain": [
              "GridSearchCV(cv=5,\n",
              "             estimator=AdaBoostClassifier(base_estimator=DecisionTreeClassifier(class_weight='balanced',\n",
              "                                                                                max_features='auto',\n",
              "                                                                                random_state=42)),\n",
              "             param_grid={'base_estimator__criterion': ['gini', 'entropy'],\n",
              "                         'base_estimator__splitter': ['best', 'random'],\n",
              "                         'n_estimators': [1, 2]})"
            ]
          },
          "metadata": {},
          "execution_count": 42
        }
      ]
    },
    {
      "cell_type": "markdown",
      "source": [
        "HyperParameter tuning for AdaBoost"
      ],
      "metadata": {
        "id": "USQMknoLH1p9"
      }
    },
    {
      "cell_type": "code",
      "source": [
        "#print the accuracy,classification report and confusion matrix for the model\n",
        "#After hyperparameter tuning\n",
        "print('Model evaluation (Optimal Hyperparameters):')\n",
        "print('Optimal parameters:', model_a.best_params_)\n",
        "y_testhat = model_a.predict(X_testscaled)\n",
        "print('Accuracy:')\n",
        "print(metrics.accuracy_score(y_test, y_testhat))\n",
        "print(\"Classification report:\")\n",
        "print(metrics.classification_report(y_test, y_testhat))\n",
        "print(\"Confusion matrix (Optimal Hyperparameters):\")\n",
        "print(metrics.confusion_matrix(y_test, y_testhat))"
      ],
      "metadata": {
        "colab": {
          "base_uri": "https://localhost:8080/"
        },
        "id": "XqI3CxrY7c2w",
        "outputId": "d78eae4b-b969-45a7-a9af-2efd82cff8b1"
      },
      "execution_count": 45,
      "outputs": [
        {
          "output_type": "stream",
          "name": "stdout",
          "text": [
            "Model evaluation (Optimal Hyperparameters):\n",
            "Optimal parameters: {'base_estimator__criterion': 'entropy', 'base_estimator__splitter': 'random', 'n_estimators': 1}\n",
            "Accuracy:\n",
            "0.987\n",
            "Classification report:\n",
            "              precision    recall  f1-score   support\n",
            "\n",
            "           0       0.99      0.98      0.99      1001\n",
            "           1       0.98      0.99      0.99       999\n",
            "\n",
            "    accuracy                           0.99      2000\n",
            "   macro avg       0.99      0.99      0.99      2000\n",
            "weighted avg       0.99      0.99      0.99      2000\n",
            "\n",
            "Confusion matrix (Optimal Hyperparameters):\n",
            "[[984  17]\n",
            " [  9 990]]\n"
          ]
        }
      ]
    },
    {
      "cell_type": "markdown",
      "source": [
        "The Accuracy for RandomForestClassifier model as well as AdaBoostclassifier model with DecisionTreeClassifier as base learner is 100%.But after performing hyperparameter tuning, RandomForestclassifier is the best model since it has 100% accuracy when compared to AbaBoostClassifier which is of 98.7%."
      ],
      "metadata": {
        "id": "J8HFyLe1-IfU"
      }
    }
  ]
}